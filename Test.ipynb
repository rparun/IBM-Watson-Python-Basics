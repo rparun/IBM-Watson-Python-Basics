{
    "cells": [
        {
            "cell_type": "markdown",
            "metadata": {
                "collapsed": true
            },
            "source": "## My Jupyter Noteboon on IBM Watson"
        },
        {
            "cell_type": "markdown",
            "metadata": {},
            "source": "Arun Padmaja"
        },
        {
            "cell_type": "markdown",
            "metadata": {},
            "source": "#I have created this to complete the assignment on my course"
        },
        {
            "cell_type": "markdown",
            "metadata": {},
            "source": "#Below is sample to code"
        },
        {
            "cell_type": "code",
            "execution_count": 4,
            "metadata": {},
            "outputs": [
                {
                    "data": {
                        "text/plain": "2"
                    },
                    "execution_count": 4,
                    "metadata": {},
                    "output_type": "execute_result"
                }
            ],
            "source": "1+1"
        }
    ],
    "metadata": {
        "kernelspec": {
            "display_name": "Python 3.7",
            "language": "python",
            "name": "python3"
        },
        "language_info": {
            "codemirror_mode": {
                "name": "ipython",
                "version": 3
            },
            "file_extension": ".py",
            "mimetype": "text/x-python",
            "name": "python",
            "nbconvert_exporter": "python",
            "pygments_lexer": "ipython3",
            "version": "3.7.9"
        }
    },
    "nbformat": 4,
    "nbformat_minor": 1
}